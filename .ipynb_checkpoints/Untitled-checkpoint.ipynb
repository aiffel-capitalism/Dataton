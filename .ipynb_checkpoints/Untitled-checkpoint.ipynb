{
 "cells": [
  {
   "cell_type": "code",
   "execution_count": 1,
   "metadata": {},
   "outputs": [],
   "source": [
    "import pandas as pd\n",
    "import numpy as np\n",
    "from glob import glob\n",
    "from tqdm import tqdm\n",
    "import time\n",
    "import re"
   ]
  },
  {
   "cell_type": "code",
   "execution_count": 6,
   "metadata": {},
   "outputs": [],
   "source": [
    "df_2017 = pd.read_csv(\"./소상공인시장진흥공단_상가(상권)정보_20220331/인구/life_population_2017.csv\", sep = ',')\n",
    "df_2018 = pd.read_csv(\"./소상공인시장진흥공단_상가(상권)정보_20220331/인구/life_population_2018.csv\", sep = ',')\n",
    "df_2019 = pd.read_csv(\"./소상공인시장진흥공단_상가(상권)정보_20220331/인구/life_population_2019.csv\", sep = ',')\n",
    "df_2020 = pd.read_csv(\"./소상공인시장진흥공단_상가(상권)정보_20220331/인구/life_population_2020.csv\", sep = ',')\n",
    "df_2021 = pd.read_csv(\"./소상공인시장진흥공단_상가(상권)정보_20220331/인구/life_population_2021.csv\", sep = ',')"
   ]
  },
  {
   "cell_type": "code",
   "execution_count": 12,
   "metadata": {},
   "outputs": [],
   "source": [
    "df_2017 = df_2017.iloc[:,:9]\n",
    "df_2018 = df_2018.iloc[:,:9]\n",
    "df_2019 = df_2019.iloc[:,:9]\n",
    "df_2020 = df_2020.iloc[:,:9]\n",
    "df_2021 = df_2021.iloc[:,:9]"
   ]
  },
  {
   "cell_type": "code",
   "execution_count": 14,
   "metadata": {},
   "outputs": [],
   "source": [
    "del df_2017['상권_코드_명']"
   ]
  },
  {
   "cell_type": "code",
   "execution_count": 17,
   "metadata": {},
   "outputs": [],
   "source": [
    "del df_2018['상권_코드_명']\n",
    "del df_2019['상권_코드_명']\n",
    "del df_2020['상권_코드_명']\n",
    "del df_2021['상권_코드_명']"
   ]
  },
  {
   "cell_type": "code",
   "execution_count": 18,
   "metadata": {},
   "outputs": [],
   "source": [
    "df_2017.to_csv(\"life_population_2017_main.csv\", sep = ',', index = False)\n",
    "df_2018.to_csv(\"life_population_2018_main.csv\", sep = ',', index = False)\n",
    "df_2019.to_csv(\"life_population_2019_main.csv\", sep = ',', index = False)\n",
    "df_2020.to_csv(\"life_population_2020_main.csv\", sep = ',', index = False)\n",
    "df_2021.to_csv(\"life_population_2021_main.csv\", sep = ',', index = False)"
   ]
  },
  {
   "cell_type": "code",
   "execution_count": null,
   "metadata": {},
   "outputs": [],
   "source": []
  },
  {
   "cell_type": "code",
   "execution_count": null,
   "metadata": {},
   "outputs": [],
   "source": []
  }
 ],
 "metadata": {
  "kernelspec": {
   "display_name": "Python 3",
   "language": "python",
   "name": "python3"
  },
  "language_info": {
   "codemirror_mode": {
    "name": "ipython",
    "version": 3
   },
   "file_extension": ".py",
   "mimetype": "text/x-python",
   "name": "python",
   "nbconvert_exporter": "python",
   "pygments_lexer": "ipython3",
   "version": "3.7.6"
  }
 },
 "nbformat": 4,
 "nbformat_minor": 4
}
